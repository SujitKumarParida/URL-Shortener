{
 "cells": [
  {
   "cell_type": "code",
   "execution_count": 1,
   "metadata": {},
   "outputs": [],
   "source": [
    "##url -> lengthy,short"
   ]
  },
  {
   "cell_type": "code",
   "execution_count": 2,
   "metadata": {},
   "outputs": [],
   "source": [
    "from pyshorteners import *\n",
    "from tkinter import *"
   ]
  },
  {
   "cell_type": "code",
   "execution_count": 3,
   "metadata": {},
   "outputs": [],
   "source": [
    "url=Shortener() ##created an object \n",
    "master=Tk()"
   ]
  },
  {
   "cell_type": "code",
   "execution_count": 4,
   "metadata": {},
   "outputs": [],
   "source": [
    "def shorten():\n",
    "    ##get the copied url from long url\n",
    "    ##convert that into short url\n",
    "    ##print that in the short url\n",
    "    long=long_url.get()\n",
    "    shortened=url.tinyurl.short(long)\n",
    "    short_url.insert(0,shortened)"
   ]
  },
  {
   "cell_type": "code",
   "execution_count": 5,
   "metadata": {},
   "outputs": [],
   "source": [
    "##3 labels, 2 entry fields, 1 Button\n",
    "label1=Label(master,text=\"URL Shortener\",font=(\"Helvetica\",16,\"bold\"),padx=20,pady=10).grid(row=0,column=0)\n",
    "label2=Label(master,text=\"Copy the URL here\",font=(\"Helvetica\",11,\"bold italic\")).grid(row=1,column=0)\n",
    "long_url=Entry(master)\n",
    "label2=Label(master,text=\"Get the tiny URL here\",font=(\"Helvetica\",11,\"bold italic\")).grid(row=2,column=0)\n",
    "short_url=Entry(master)\n",
    "Generate=Button(master,text=\"Generate\",font=(\"Arial\",12,\"bold\"),command=shorten).grid(row=3,column=0)"
   ]
  },
  {
   "cell_type": "code",
   "execution_count": 6,
   "metadata": {},
   "outputs": [],
   "source": [
    "long_url.grid(row=1,column=1,ipadx=35,ipady=10)\n",
    "short_url.grid(row=2,column=1,ipadx=35,ipady=10)"
   ]
  },
  {
   "cell_type": "code",
   "execution_count": 7,
   "metadata": {},
   "outputs": [],
   "source": [
    "##short_url=url.tinyurl.short(\"https://www.google.com/search?q=kobe+bryant&rlz=1C1CHBF_enIN947IN947&oq=&aqs=chrome.6.35i39i362l8...8.1092987475j0j15&sourceid=chrome&ie=UTF-8\")"
   ]
  },
  {
   "cell_type": "code",
   "execution_count": 8,
   "metadata": {},
   "outputs": [],
   "source": [
    "##print(short_url)"
   ]
  },
  {
   "cell_type": "code",
   "execution_count": null,
   "metadata": {},
   "outputs": [],
   "source": [
    "master.mainloop()"
   ]
  }
 ],
 "metadata": {
  "kernelspec": {
   "display_name": "Python 3",
   "language": "python",
   "name": "python3"
  },
  "language_info": {
   "codemirror_mode": {
    "name": "ipython",
    "version": 3
   },
   "file_extension": ".py",
   "mimetype": "text/x-python",
   "name": "python",
   "nbconvert_exporter": "python",
   "pygments_lexer": "ipython3",
   "version": "3.8.5"
  }
 },
 "nbformat": 4,
 "nbformat_minor": 4
}
